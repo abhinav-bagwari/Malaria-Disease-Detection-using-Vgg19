{
  "nbformat": 4,
  "nbformat_minor": 0,
  "metadata": {
    "colab": {
      "name": "Malaria Disease Detection using Vgg19.ipynb",
      "provenance": [],
      "collapsed_sections": [],
      "mount_file_id": "1rLF_f0ej-nbYZWl6-gRm-k3dOKCrt1PR",
      "authorship_tag": "ABX9TyNjRI8to8AJdcmzv1gWLbqF",
      "include_colab_link": true
    },
    "kernelspec": {
      "name": "python3",
      "display_name": "Python 3"
    },
    "language_info": {
      "name": "python"
    }
  },
  "cells": [
    {
      "cell_type": "markdown",
      "metadata": {
        "id": "view-in-github",
        "colab_type": "text"
      },
      "source": [
        "<a href=\"https://colab.research.google.com/github/abhinav-bagwari/Malaria-Disease-Detection-using-Vgg19/blob/main/Malaria_Disease_Detection_using_Vgg19.ipynb\" target=\"_parent\"><img src=\"https://colab.research.google.com/assets/colab-badge.svg\" alt=\"Open In Colab\"/></a>"
      ]
    },
    {
      "cell_type": "code",
      "metadata": {
        "id": "dmM1XDFwTXlK"
      },
      "source": [
        "from keras.layers import Input, Lambda, Dense, Flatten\n",
        "from keras.models import Sequential, Model\n",
        "from keras.applications.vgg19 import VGG19\n",
        "from keras.applications.vgg16 import preprocess_input\n",
        "from keras.preprocessing import image\n",
        "from keras.preprocessing.image import ImageDataGenerator\n",
        "import numpy as np\n",
        "from glob import glob\n",
        "import matplotlib.pyplot as plt"
      ],
      "execution_count": null,
      "outputs": []
    },
    {
      "cell_type": "code",
      "metadata": {
        "id": "ic_XrzxmWLIx"
      },
      "source": [
        "IMAGE_SIZE = [224, 224]\n",
        "train_path = '/content/drive/MyDrive/Colab Notebooks/Dataset/Train'\n",
        "test_path = '/content/drive/MyDrive/Colab Notebooks/Dataset/Test'"
      ],
      "execution_count": null,
      "outputs": []
    },
    {
      "cell_type": "code",
      "metadata": {
        "id": "fyn4UiydWzWZ"
      },
      "source": [
        "# add preprocessing layer to the front of VGG\n",
        "# imagenet weight already able to categorize thousands of categories\n",
        "# input_shape = 224,224,3\n",
        "# include_top = FALSE -> dropping the first and last layer coz last layer will have only 2 categories i.e parasitized and Uninfected\n",
        "vgg = VGG19(input_shape = IMAGE_SIZE + [3], weights='imagenet', include_top=False)"
      ],
      "execution_count": null,
      "outputs": []
    },
    {
      "cell_type": "code",
      "metadata": {
        "id": "_tEe7x5gXJcj"
      },
      "source": [
        "# don't train existing weights since it is already trained to classify multiples of \n",
        "#categories we need not to further updates the weights of vgg19 pre-trained model\n",
        "for layer in vgg.layers:\n",
        "  layer.trainable = False"
      ],
      "execution_count": null,
      "outputs": []
    },
    {
      "cell_type": "code",
      "metadata": {
        "id": "NHFhQrWIYmV8"
      },
      "source": [
        "# to check how many classes is present inside the Train i.e Parasitized and Uninfected\n",
        "folders = glob('/content/drive/MyDrive/Colab Notebooks/Dataset/Train/*')"
      ],
      "execution_count": null,
      "outputs": []
    },
    {
      "cell_type": "code",
      "metadata": {
        "id": "HaYJ169OZCrw"
      },
      "source": [
        "# Addding layers\n",
        "x = Flatten()(vgg.output)\n",
        "prediction  = Dense(len(folders),activation='softmax')(x)"
      ],
      "execution_count": null,
      "outputs": []
    },
    {
      "cell_type": "code",
      "metadata": {
        "id": "vDuX6w48Zg2_"
      },
      "source": [
        "#Creating model object\n",
        "model = Model(inputs = vgg.input, outputs = prediction)"
      ],
      "execution_count": null,
      "outputs": []
    },
    {
      "cell_type": "code",
      "metadata": {
        "colab": {
          "base_uri": "https://localhost:8080/"
        },
        "id": "JrlXY1sGZrms",
        "outputId": "58148c32-1ee9-4b4a-c87c-1367d13858b9"
      },
      "source": [
        "# the structure of the model\n",
        "model.summary()"
      ],
      "execution_count": null,
      "outputs": [
        {
          "output_type": "stream",
          "name": "stdout",
          "text": [
            "Model: \"model\"\n",
            "_________________________________________________________________\n",
            "Layer (type)                 Output Shape              Param #   \n",
            "=================================================================\n",
            "input_2 (InputLayer)         [(None, 224, 224, 3)]     0         \n",
            "_________________________________________________________________\n",
            "block1_conv1 (Conv2D)        (None, 224, 224, 64)      1792      \n",
            "_________________________________________________________________\n",
            "block1_conv2 (Conv2D)        (None, 224, 224, 64)      36928     \n",
            "_________________________________________________________________\n",
            "block1_pool (MaxPooling2D)   (None, 112, 112, 64)      0         \n",
            "_________________________________________________________________\n",
            "block2_conv1 (Conv2D)        (None, 112, 112, 128)     73856     \n",
            "_________________________________________________________________\n",
            "block2_conv2 (Conv2D)        (None, 112, 112, 128)     147584    \n",
            "_________________________________________________________________\n",
            "block2_pool (MaxPooling2D)   (None, 56, 56, 128)       0         \n",
            "_________________________________________________________________\n",
            "block3_conv1 (Conv2D)        (None, 56, 56, 256)       295168    \n",
            "_________________________________________________________________\n",
            "block3_conv2 (Conv2D)        (None, 56, 56, 256)       590080    \n",
            "_________________________________________________________________\n",
            "block3_conv3 (Conv2D)        (None, 56, 56, 256)       590080    \n",
            "_________________________________________________________________\n",
            "block3_conv4 (Conv2D)        (None, 56, 56, 256)       590080    \n",
            "_________________________________________________________________\n",
            "block3_pool (MaxPooling2D)   (None, 28, 28, 256)       0         \n",
            "_________________________________________________________________\n",
            "block4_conv1 (Conv2D)        (None, 28, 28, 512)       1180160   \n",
            "_________________________________________________________________\n",
            "block4_conv2 (Conv2D)        (None, 28, 28, 512)       2359808   \n",
            "_________________________________________________________________\n",
            "block4_conv3 (Conv2D)        (None, 28, 28, 512)       2359808   \n",
            "_________________________________________________________________\n",
            "block4_conv4 (Conv2D)        (None, 28, 28, 512)       2359808   \n",
            "_________________________________________________________________\n",
            "block4_pool (MaxPooling2D)   (None, 14, 14, 512)       0         \n",
            "_________________________________________________________________\n",
            "block5_conv1 (Conv2D)        (None, 14, 14, 512)       2359808   \n",
            "_________________________________________________________________\n",
            "block5_conv2 (Conv2D)        (None, 14, 14, 512)       2359808   \n",
            "_________________________________________________________________\n",
            "block5_conv3 (Conv2D)        (None, 14, 14, 512)       2359808   \n",
            "_________________________________________________________________\n",
            "block5_conv4 (Conv2D)        (None, 14, 14, 512)       2359808   \n",
            "_________________________________________________________________\n",
            "block5_pool (MaxPooling2D)   (None, 7, 7, 512)         0         \n",
            "_________________________________________________________________\n",
            "flatten (Flatten)            (None, 25088)             0         \n",
            "_________________________________________________________________\n",
            "dense (Dense)                (None, 2)                 50178     \n",
            "=================================================================\n",
            "Total params: 20,074,562\n",
            "Trainable params: 50,178\n",
            "Non-trainable params: 20,024,384\n",
            "_________________________________________________________________\n"
          ]
        }
      ]
    },
    {
      "cell_type": "code",
      "metadata": {
        "id": "I1cgWOmqZ3wu"
      },
      "source": [
        "model.compile(optimizer = \"adam\", loss =\"categorical_crossentropy\", metrics=['accuracy'])"
      ],
      "execution_count": null,
      "outputs": []
    },
    {
      "cell_type": "code",
      "metadata": {
        "id": "5vy6mZ85aP3O"
      },
      "source": [
        "#Using the ImageDataGenerator to load images for Image Agumentation\n",
        "train_datagen = ImageDataGenerator(rescale = 1/255,\n",
        "                                   shear_range=0.2,\n",
        "                                   zoom_range = 0.2,\n",
        "                                   horizontal_flip = True)\n",
        "\n",
        "test_datagen = ImageDataGenerator(rescale = 1/255)"
      ],
      "execution_count": null,
      "outputs": []
    },
    {
      "cell_type": "code",
      "metadata": {
        "colab": {
          "base_uri": "https://localhost:8080/"
        },
        "id": "LkZRaQgJa5yF",
        "outputId": "2633d499-e410-4579-f370-f83a8491823b"
      },
      "source": [
        "training_set = train_datagen.flow_from_directory(directory = train_path,\n",
        "                                                 target_size = (224,224),\n",
        "                                                 batch_size = 32,\n",
        "                                                 class_mode = 'categorical')\n",
        "\n",
        "testing_set = test_datagen.flow_from_directory(directory = test_path,\n",
        "                                                 target_size = (224,224),\n",
        "                                                 batch_size = 32,\n",
        "                                                 class_mode = 'categorical')"
      ],
      "execution_count": null,
      "outputs": [
        {
          "output_type": "stream",
          "name": "stdout",
          "text": [
            "Found 416 images belonging to 2 classes.\n",
            "Found 134 images belonging to 2 classes.\n"
          ]
        }
      ]
    },
    {
      "cell_type": "code",
      "metadata": {
        "colab": {
          "base_uri": "https://localhost:8080/"
        },
        "id": "zd7wRGT0bdBH",
        "outputId": "0f273f85-6bc8-4722-9e7e-1befcf3078dc"
      },
      "source": [
        "#fitting model\n",
        "model.fit_generator(training_set,\n",
        "                    validation_data = testing_set,\n",
        "                    epochs = 5,\n",
        "                    steps_per_epoch = len(training_set),\n",
        "                    validation_steps = len(testing_set))"
      ],
      "execution_count": null,
      "outputs": [
        {
          "output_type": "stream",
          "name": "stderr",
          "text": [
            "/usr/local/lib/python3.7/dist-packages/keras/engine/training.py:1972: UserWarning: `Model.fit_generator` is deprecated and will be removed in a future version. Please use `Model.fit`, which supports generators.\n",
            "  warnings.warn('`Model.fit_generator` is deprecated and '\n"
          ]
        },
        {
          "output_type": "stream",
          "name": "stdout",
          "text": [
            "Epoch 1/5\n",
            "13/13 [==============================] - 286s 21s/step - loss: 1.1160 - accuracy: 0.5769 - val_loss: 0.7350 - val_accuracy: 0.6791\n",
            "Epoch 2/5\n",
            "13/13 [==============================] - 219s 17s/step - loss: 0.6611 - accuracy: 0.6827 - val_loss: 0.7107 - val_accuracy: 0.6119\n",
            "Epoch 3/5\n",
            "13/13 [==============================] - 221s 17s/step - loss: 0.4255 - accuracy: 0.7885 - val_loss: 0.4506 - val_accuracy: 0.7164\n",
            "Epoch 4/5\n",
            "13/13 [==============================] - 220s 17s/step - loss: 0.3567 - accuracy: 0.8389 - val_loss: 0.5849 - val_accuracy: 0.6642\n",
            "Epoch 5/5\n",
            "13/13 [==============================] - 219s 17s/step - loss: 0.3026 - accuracy: 0.8726 - val_loss: 0.4572 - val_accuracy: 0.7612\n"
          ]
        },
        {
          "output_type": "execute_result",
          "data": {
            "text/plain": [
              "<keras.callbacks.History at 0x7eff19bf9510>"
            ]
          },
          "metadata": {},
          "execution_count": 24
        }
      ]
    },
    {
      "cell_type": "markdown",
      "metadata": {
        "id": "WHhB0CYdoRSC"
      },
      "source": [
        "* **epochs**: an integer and number of epochs we want to train our model for\n",
        "\n",
        "* **steps_per_epoch**: it specifies the \n",
        "total number of steps taken before\n",
        "one epoch has finished and started the next epoch. By default it values is set to NULL.\n",
        "\n",
        "* **validation_steps** :only if the validation_data is a generator then only this argument\n",
        "can be used. It specifies the total number of steps taken from the generator before it is \n",
        "stopped at every epoch and its value is calculated as the total number of validation data points\n",
        "in your dataset divided by the validation batch size\n"
      ]
    },
    {
      "cell_type": "code",
      "metadata": {
        "id": "rz__l4lAnYJ-"
      },
      "source": [
        "model.save(\"malaria_model.h5\")"
      ],
      "execution_count": null,
      "outputs": []
    },
    {
      "cell_type": "code",
      "metadata": {
        "id": "n5_vV4nFt5wT"
      },
      "source": [
        "path = \"/content/drive/MyDrive/Colab Notebooks/Dataset/Test/Uninfected/C3thin_original_IMG_20150608_163047_cell_26.png\"\n",
        "img = image.load_img(path, target_size=(224,224))\n",
        "\n",
        "img = image.img_to_array(img)/255\n",
        "img = np.array([img])\n",
        "img.shape\n",
        "# model.predict_classes(img)\n",
        "pred = (model.predict(img) > 0.5).astype(\"int32\")"
      ],
      "execution_count": null,
      "outputs": []
    },
    {
      "cell_type": "code",
      "metadata": {
        "id": "_wPiRipquYwM"
      },
      "source": [
        "y = pred[0]"
      ],
      "execution_count": null,
      "outputs": []
    },
    {
      "cell_type": "code",
      "metadata": {
        "colab": {
          "base_uri": "https://localhost:8080/"
        },
        "id": "NABfxfRxwXPf",
        "outputId": "a671f5a4-8b62-4c8a-b011-201380d6b538"
      },
      "source": [
        "y[0]"
      ],
      "execution_count": null,
      "outputs": [
        {
          "output_type": "execute_result",
          "data": {
            "text/plain": [
              "0"
            ]
          },
          "metadata": {},
          "execution_count": 66
        }
      ]
    },
    {
      "cell_type": "code",
      "metadata": {
        "colab": {
          "base_uri": "https://localhost:8080/"
        },
        "id": "tXSgsyBWubJg",
        "outputId": "3cd3fe5c-de73-4cd6-adf6-7091544a83e4"
      },
      "source": [
        "if (y[0] == 0):\n",
        "  result = \"Uninfected\"\n",
        "else:\n",
        "  result = \"Infected\"\n",
        "\n",
        "print(result)"
      ],
      "execution_count": null,
      "outputs": [
        {
          "output_type": "stream",
          "name": "stdout",
          "text": [
            "Uninfected\n"
          ]
        }
      ]
    },
    {
      "cell_type": "code",
      "metadata": {
        "id": "qglXP8x0wsyz"
      },
      "source": [
        ""
      ],
      "execution_count": null,
      "outputs": []
    }
  ]
}